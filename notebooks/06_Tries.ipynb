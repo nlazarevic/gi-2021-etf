{
 "cells": [
  {
   "cell_type": "code",
   "execution_count": 18,
   "metadata": {},
   "outputs": [],
   "source": [
    "class TrieMap(object):\n",
    "    \"\"\" Trie implementation of a map.  Associating keys (strings or other\n",
    "        sequence type) with values.  Values can be any type. \"\"\"\n",
    "    \n",
    "    def __init__(self, kvs):\n",
    "        self.root = {}\n",
    "        # For each key (string)/value pair\n",
    "        for (k, v) in kvs: self.add(k, v)\n",
    "    \n",
    "    def add(self, k, v):\n",
    "        \"\"\" Add a key-value pair \"\"\"\n",
    "        cur = self.root\n",
    "        for c in k: # for each character in the string\n",
    "            if c not in cur:\n",
    "                cur[c] = {} # if not there, make new edge on character c\n",
    "            cur = cur[c]\n",
    "        cur['value'] = v # at the end of the path, add the value\n",
    "    \n",
    "    def query(self, k):\n",
    "        \"\"\" Given key, return associated value or None \"\"\"\n",
    "        cur = self.root\n",
    "        for c in k:\n",
    "            if c not in cur:\n",
    "                return None # key wasn't in the trie\n",
    "            cur = cur[c]\n",
    "        # get value, or None if there's no value associated with this node\n",
    "        return cur.get('value')"
   ]
  },
  {
   "cell_type": "code",
   "execution_count": 19,
   "metadata": {},
   "outputs": [],
   "source": [
    "mp = TrieMap([(\"hello\", \"value 1\"), (\"there\", 2), (\"the\", \"value 3\")])"
   ]
  },
  {
   "cell_type": "code",
   "execution_count": 20,
   "metadata": {},
   "outputs": [
    {
     "data": {
      "text/plain": [
       "{'h': {'e': {'l': {'l': {'o': {'value': 'value 1'}}}}},\n",
       " 't': {'h': {'e': {'r': {'e': {'value': 2}}, 'value': 'value 3'}}}}"
      ]
     },
     "execution_count": 20,
     "metadata": {},
     "output_type": "execute_result"
    }
   ],
   "source": [
    "mp.root"
   ]
  },
  {
   "cell_type": "code",
   "execution_count": 21,
   "metadata": {},
   "outputs": [
    {
     "data": {
      "text/plain": [
       "'value 1'"
      ]
     },
     "execution_count": 21,
     "metadata": {},
     "output_type": "execute_result"
    }
   ],
   "source": [
    "mp.query(\"hello\")"
   ]
  },
  {
   "cell_type": "code",
   "execution_count": 22,
   "metadata": {},
   "outputs": [],
   "source": [
    "mp.query(\"hello there\") # returns None"
   ]
  },
  {
   "cell_type": "code",
   "execution_count": 23,
   "metadata": {},
   "outputs": [
    {
     "data": {
      "text/plain": [
       "{'h': {'e': {'l': {'l': {'o': {'value': 'value 1'}}}}},\n",
       " 't': {'h': {'e': {'r': {'e': {'value': 2}}, 'value': 'value 3'}}}}"
      ]
     },
     "execution_count": 23,
     "metadata": {},
     "output_type": "execute_result"
    }
   ],
   "source": [
    "mp.root"
   ]
  },
  {
   "cell_type": "code",
   "execution_count": 24,
   "metadata": {},
   "outputs": [
    {
     "data": {
      "text/plain": [
       "2"
      ]
     },
     "execution_count": 24,
     "metadata": {},
     "output_type": "execute_result"
    }
   ],
   "source": [
    "mp.query(\"there\")"
   ]
  },
  {
   "cell_type": "code",
   "execution_count": 15,
   "metadata": {},
   "outputs": [],
   "source": [
    "mp.query(\"ther\") # returns None"
   ]
  },
  {
   "cell_type": "code",
   "execution_count": 16,
   "metadata": {},
   "outputs": [
    {
     "data": {
      "text/plain": [
       "'value 3'"
      ]
     },
     "execution_count": 16,
     "metadata": {},
     "output_type": "execute_result"
    }
   ],
   "source": [
    "mp.query(\"the\")"
   ]
  },
  {
   "cell_type": "code",
   "execution_count": 25,
   "metadata": {},
   "outputs": [],
   "source": [
    "mp.query(\"\") # returns None"
   ]
  },
  {
   "cell_type": "code",
   "execution_count": null,
   "metadata": {},
   "outputs": [],
   "source": []
  }
 ],
 "metadata": {
  "anaconda-cloud": {},
  "kernelspec": {
   "display_name": "Python 3",
   "language": "python",
   "name": "python3"
  },
  "language_info": {
   "codemirror_mode": {
    "name": "ipython",
    "version": 3
   },
   "file_extension": ".py",
   "mimetype": "text/x-python",
   "name": "python",
   "nbconvert_exporter": "python",
   "pygments_lexer": "ipython3",
   "version": "3.8.5"
  }
 },
 "nbformat": 4,
 "nbformat_minor": 1
}
